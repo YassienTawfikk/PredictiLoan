{
 "cells": [
  {
   "metadata": {},
   "cell_type": "markdown",
   "source": "# Data Setup",
   "id": "d7697e9b79b60f38"
  },
  {
   "metadata": {},
   "cell_type": "markdown",
   "source": "## Imports",
   "id": "266554aa23cc9a6f"
  },
  {
   "metadata": {
    "ExecuteTime": {
     "end_time": "2025-08-08T20:44:21.589422Z",
     "start_time": "2025-08-08T20:44:20.617664Z"
    }
   },
   "cell_type": "code",
   "source": [
    "import kagglehub\n",
    "import numpy as np\n",
    "import pandas as pd\n",
    "\n",
    "from sklearn.model_selection import train_test_split\n",
    "from sklearn.preprocessing import StandardScaler\n",
    "\n",
    "from src.__00__paths import raw_data_dir, processed_data_dir, curated_data_dir\n",
    "from pathlib import Path\n",
    "import shutil"
   ],
   "id": "da192187edd5d186",
   "outputs": [],
   "execution_count": 1
  },
  {
   "metadata": {},
   "cell_type": "markdown",
   "source": "## Dataset Download",
   "id": "c6e5cb98a671533"
  },
  {
   "metadata": {
    "ExecuteTime": {
     "end_time": "2025-08-08T20:44:21.596575Z",
     "start_time": "2025-08-08T20:44:21.593638Z"
    }
   },
   "cell_type": "code",
   "source": [
    "# List of files to check\n",
    "raw_dataset = raw_data_dir / \"loan_approval_dataset.csv\"\n",
    "\n",
    "# Check and download\n",
    "if raw_dataset.exists():\n",
    "    print(\"✔️ Dataset is already downloaded.\")\n",
    "else:\n",
    "    # Download dataset\n",
    "    dataset_path = Path(kagglehub.dataset_download(\"architsharma01/loan-approval-prediction-dataset\"))\n",
    "\n",
    "    if not dataset_path.exists():\n",
    "        raise FileNotFoundError(\"⚠ Dataset not found.\")\n",
    "\n",
    "    # Check for an extra \"Data\" folder\n",
    "    data_root = dataset_path / \"Data\" if (dataset_path / \"Data\").exists() else dataset_path\n",
    "\n",
    "    # Copy files/folders to raw_data_dir\n",
    "    for item in data_root.iterdir():\n",
    "        target = raw_data_dir / item.name\n",
    "        if item.is_file():\n",
    "            shutil.copy2(item, target)\n",
    "\n",
    "    print(\"✔️ Dataset successfully downloaded.\")"
   ],
   "id": "7853993324b310e5",
   "outputs": [
    {
     "name": "stdout",
     "output_type": "stream",
     "text": [
      "✔️ Dataset is already downloaded.\n"
     ]
    }
   ],
   "execution_count": 2
  },
  {
   "metadata": {},
   "cell_type": "markdown",
   "source": "## Load Datasets",
   "id": "2f96c323206544e2"
  },
  {
   "metadata": {
    "ExecuteTime": {
     "end_time": "2025-08-08T20:45:06.455485Z",
     "start_time": "2025-08-08T20:45:06.443095Z"
    }
   },
   "cell_type": "code",
   "source": [
    "raw_df = pd.read_csv(raw_dataset)\n",
    "raw_df.head()"
   ],
   "id": "bb57ce44f0659b10",
   "outputs": [
    {
     "data": {
      "text/plain": [
       "   loan_id   no_of_dependents      education  self_employed   income_annum  \\\n",
       "0        1                  2       Graduate             No        9600000   \n",
       "1        2                  0   Not Graduate            Yes        4100000   \n",
       "2        3                  3       Graduate             No        9100000   \n",
       "3        4                  3       Graduate             No        8200000   \n",
       "4        5                  5   Not Graduate            Yes        9800000   \n",
       "\n",
       "    loan_amount   loan_term   cibil_score   residential_assets_value  \\\n",
       "0      29900000          12           778                    2400000   \n",
       "1      12200000           8           417                    2700000   \n",
       "2      29700000          20           506                    7100000   \n",
       "3      30700000           8           467                   18200000   \n",
       "4      24200000          20           382                   12400000   \n",
       "\n",
       "    commercial_assets_value   luxury_assets_value   bank_asset_value  \\\n",
       "0                  17600000              22700000            8000000   \n",
       "1                   2200000               8800000            3300000   \n",
       "2                   4500000              33300000           12800000   \n",
       "3                   3300000              23300000            7900000   \n",
       "4                   8200000              29400000            5000000   \n",
       "\n",
       "   loan_status  \n",
       "0     Approved  \n",
       "1     Rejected  \n",
       "2     Rejected  \n",
       "3     Rejected  \n",
       "4     Rejected  "
      ],
      "text/html": [
       "<div>\n",
       "<style scoped>\n",
       "    .dataframe tbody tr th:only-of-type {\n",
       "        vertical-align: middle;\n",
       "    }\n",
       "\n",
       "    .dataframe tbody tr th {\n",
       "        vertical-align: top;\n",
       "    }\n",
       "\n",
       "    .dataframe thead th {\n",
       "        text-align: right;\n",
       "    }\n",
       "</style>\n",
       "<table border=\"1\" class=\"dataframe\">\n",
       "  <thead>\n",
       "    <tr style=\"text-align: right;\">\n",
       "      <th></th>\n",
       "      <th>loan_id</th>\n",
       "      <th>no_of_dependents</th>\n",
       "      <th>education</th>\n",
       "      <th>self_employed</th>\n",
       "      <th>income_annum</th>\n",
       "      <th>loan_amount</th>\n",
       "      <th>loan_term</th>\n",
       "      <th>cibil_score</th>\n",
       "      <th>residential_assets_value</th>\n",
       "      <th>commercial_assets_value</th>\n",
       "      <th>luxury_assets_value</th>\n",
       "      <th>bank_asset_value</th>\n",
       "      <th>loan_status</th>\n",
       "    </tr>\n",
       "  </thead>\n",
       "  <tbody>\n",
       "    <tr>\n",
       "      <th>0</th>\n",
       "      <td>1</td>\n",
       "      <td>2</td>\n",
       "      <td>Graduate</td>\n",
       "      <td>No</td>\n",
       "      <td>9600000</td>\n",
       "      <td>29900000</td>\n",
       "      <td>12</td>\n",
       "      <td>778</td>\n",
       "      <td>2400000</td>\n",
       "      <td>17600000</td>\n",
       "      <td>22700000</td>\n",
       "      <td>8000000</td>\n",
       "      <td>Approved</td>\n",
       "    </tr>\n",
       "    <tr>\n",
       "      <th>1</th>\n",
       "      <td>2</td>\n",
       "      <td>0</td>\n",
       "      <td>Not Graduate</td>\n",
       "      <td>Yes</td>\n",
       "      <td>4100000</td>\n",
       "      <td>12200000</td>\n",
       "      <td>8</td>\n",
       "      <td>417</td>\n",
       "      <td>2700000</td>\n",
       "      <td>2200000</td>\n",
       "      <td>8800000</td>\n",
       "      <td>3300000</td>\n",
       "      <td>Rejected</td>\n",
       "    </tr>\n",
       "    <tr>\n",
       "      <th>2</th>\n",
       "      <td>3</td>\n",
       "      <td>3</td>\n",
       "      <td>Graduate</td>\n",
       "      <td>No</td>\n",
       "      <td>9100000</td>\n",
       "      <td>29700000</td>\n",
       "      <td>20</td>\n",
       "      <td>506</td>\n",
       "      <td>7100000</td>\n",
       "      <td>4500000</td>\n",
       "      <td>33300000</td>\n",
       "      <td>12800000</td>\n",
       "      <td>Rejected</td>\n",
       "    </tr>\n",
       "    <tr>\n",
       "      <th>3</th>\n",
       "      <td>4</td>\n",
       "      <td>3</td>\n",
       "      <td>Graduate</td>\n",
       "      <td>No</td>\n",
       "      <td>8200000</td>\n",
       "      <td>30700000</td>\n",
       "      <td>8</td>\n",
       "      <td>467</td>\n",
       "      <td>18200000</td>\n",
       "      <td>3300000</td>\n",
       "      <td>23300000</td>\n",
       "      <td>7900000</td>\n",
       "      <td>Rejected</td>\n",
       "    </tr>\n",
       "    <tr>\n",
       "      <th>4</th>\n",
       "      <td>5</td>\n",
       "      <td>5</td>\n",
       "      <td>Not Graduate</td>\n",
       "      <td>Yes</td>\n",
       "      <td>9800000</td>\n",
       "      <td>24200000</td>\n",
       "      <td>20</td>\n",
       "      <td>382</td>\n",
       "      <td>12400000</td>\n",
       "      <td>8200000</td>\n",
       "      <td>29400000</td>\n",
       "      <td>5000000</td>\n",
       "      <td>Rejected</td>\n",
       "    </tr>\n",
       "  </tbody>\n",
       "</table>\n",
       "</div>"
      ]
     },
     "execution_count": 6,
     "metadata": {},
     "output_type": "execute_result"
    }
   ],
   "execution_count": 6
  },
  {
   "metadata": {},
   "cell_type": "markdown",
   "source": "## Data Preprocessing",
   "id": "e6769a0ad56b7b5d"
  },
  {
   "metadata": {
    "ExecuteTime": {
     "end_time": "2025-08-08T20:53:15.526469Z",
     "start_time": "2025-08-08T20:53:15.510101Z"
    }
   },
   "cell_type": "code",
   "source": [
    "# Strip Spaces in Feature title\n",
    "raw_df.columns = raw_df.columns.str.strip()\n",
    "\n",
    "# Drop ID\n",
    "processed_df = raw_df.drop(columns=['loan_id'])\n",
    "\n",
    "# Label Encoding\n",
    "processed_df['education'] = processed_df['education'].map({\" Graduate\": 1, \" Not Graduate\": 0})\n",
    "processed_df['self_employed'] = processed_df['self_employed'].map({\" Yes\": 1, \" No\": 0})\n",
    "processed_df['loan_status'] = processed_df['loan_status'].map({\" Approved\": 1, \" Rejected\": 0})\n",
    "\n",
    "# Normalizing Numerical Features\n",
    "numerical_features = ['income_annum', 'loan_amount', 'loan_term', 'cibil_score', 'residential_assets_value',\n",
    "                      'commercial_assets_value', 'luxury_assets_value', 'bank_asset_value']\n",
    "scaler = StandardScaler()\n",
    "processed_df[numerical_features] = scaler.fit_transform(processed_df[numerical_features])\n",
    "\n",
    "processed_df.head()"
   ],
   "id": "196475edd6004b42",
   "outputs": [
    {
     "data": {
      "text/plain": [
       "   no_of_dependents  education  self_employed  income_annum  loan_amount  \\\n",
       "0                 2          1              0      1.617979     1.633052   \n",
       "1                 0          0              1     -0.341750    -0.324414   \n",
       "2                 3          1              0      1.439822     1.610933   \n",
       "3                 3          1              0      1.119139     1.721525   \n",
       "4                 5          0              1      1.689242     1.002681   \n",
       "\n",
       "   loan_term  cibil_score  residential_assets_value  commercial_assets_value  \\\n",
       "0   0.192617     1.032792                 -0.780058                 2.877289   \n",
       "1  -0.508091    -1.061051                 -0.733924                -0.631921   \n",
       "2   1.594031    -0.544840                 -0.057300                -0.107818   \n",
       "3  -0.508091    -0.771045                  1.649637                -0.381263   \n",
       "4   1.594031    -1.264055                  0.757724                 0.735304   \n",
       "\n",
       "   luxury_assets_value  bank_asset_value  loan_status  \n",
       "0             0.832028          0.930304            1  \n",
       "1            -0.694993         -0.515936            0  \n",
       "2             1.996520          2.407316            0  \n",
       "3             0.897943          0.899533            0  \n",
       "4             1.568075          0.007172            0  "
      ],
      "text/html": [
       "<div>\n",
       "<style scoped>\n",
       "    .dataframe tbody tr th:only-of-type {\n",
       "        vertical-align: middle;\n",
       "    }\n",
       "\n",
       "    .dataframe tbody tr th {\n",
       "        vertical-align: top;\n",
       "    }\n",
       "\n",
       "    .dataframe thead th {\n",
       "        text-align: right;\n",
       "    }\n",
       "</style>\n",
       "<table border=\"1\" class=\"dataframe\">\n",
       "  <thead>\n",
       "    <tr style=\"text-align: right;\">\n",
       "      <th></th>\n",
       "      <th>no_of_dependents</th>\n",
       "      <th>education</th>\n",
       "      <th>self_employed</th>\n",
       "      <th>income_annum</th>\n",
       "      <th>loan_amount</th>\n",
       "      <th>loan_term</th>\n",
       "      <th>cibil_score</th>\n",
       "      <th>residential_assets_value</th>\n",
       "      <th>commercial_assets_value</th>\n",
       "      <th>luxury_assets_value</th>\n",
       "      <th>bank_asset_value</th>\n",
       "      <th>loan_status</th>\n",
       "    </tr>\n",
       "  </thead>\n",
       "  <tbody>\n",
       "    <tr>\n",
       "      <th>0</th>\n",
       "      <td>2</td>\n",
       "      <td>1</td>\n",
       "      <td>0</td>\n",
       "      <td>1.617979</td>\n",
       "      <td>1.633052</td>\n",
       "      <td>0.192617</td>\n",
       "      <td>1.032792</td>\n",
       "      <td>-0.780058</td>\n",
       "      <td>2.877289</td>\n",
       "      <td>0.832028</td>\n",
       "      <td>0.930304</td>\n",
       "      <td>1</td>\n",
       "    </tr>\n",
       "    <tr>\n",
       "      <th>1</th>\n",
       "      <td>0</td>\n",
       "      <td>0</td>\n",
       "      <td>1</td>\n",
       "      <td>-0.341750</td>\n",
       "      <td>-0.324414</td>\n",
       "      <td>-0.508091</td>\n",
       "      <td>-1.061051</td>\n",
       "      <td>-0.733924</td>\n",
       "      <td>-0.631921</td>\n",
       "      <td>-0.694993</td>\n",
       "      <td>-0.515936</td>\n",
       "      <td>0</td>\n",
       "    </tr>\n",
       "    <tr>\n",
       "      <th>2</th>\n",
       "      <td>3</td>\n",
       "      <td>1</td>\n",
       "      <td>0</td>\n",
       "      <td>1.439822</td>\n",
       "      <td>1.610933</td>\n",
       "      <td>1.594031</td>\n",
       "      <td>-0.544840</td>\n",
       "      <td>-0.057300</td>\n",
       "      <td>-0.107818</td>\n",
       "      <td>1.996520</td>\n",
       "      <td>2.407316</td>\n",
       "      <td>0</td>\n",
       "    </tr>\n",
       "    <tr>\n",
       "      <th>3</th>\n",
       "      <td>3</td>\n",
       "      <td>1</td>\n",
       "      <td>0</td>\n",
       "      <td>1.119139</td>\n",
       "      <td>1.721525</td>\n",
       "      <td>-0.508091</td>\n",
       "      <td>-0.771045</td>\n",
       "      <td>1.649637</td>\n",
       "      <td>-0.381263</td>\n",
       "      <td>0.897943</td>\n",
       "      <td>0.899533</td>\n",
       "      <td>0</td>\n",
       "    </tr>\n",
       "    <tr>\n",
       "      <th>4</th>\n",
       "      <td>5</td>\n",
       "      <td>0</td>\n",
       "      <td>1</td>\n",
       "      <td>1.689242</td>\n",
       "      <td>1.002681</td>\n",
       "      <td>1.594031</td>\n",
       "      <td>-1.264055</td>\n",
       "      <td>0.757724</td>\n",
       "      <td>0.735304</td>\n",
       "      <td>1.568075</td>\n",
       "      <td>0.007172</td>\n",
       "      <td>0</td>\n",
       "    </tr>\n",
       "  </tbody>\n",
       "</table>\n",
       "</div>"
      ]
     },
     "execution_count": 18,
     "metadata": {},
     "output_type": "execute_result"
    }
   ],
   "execution_count": 18
  },
  {
   "metadata": {},
   "cell_type": "markdown",
   "source": "## Save Processed Data",
   "id": "e3b72c02844e0ee8"
  },
  {
   "metadata": {
    "ExecuteTime": {
     "end_time": "2025-08-08T20:55:40.991234Z",
     "start_time": "2025-08-08T20:55:40.945617Z"
    }
   },
   "cell_type": "code",
   "source": [
    "processed_df.to_csv(processed_data_dir / 'processed_data.csv', index=False)\n",
    "print(f\"✔️ Dataset successfully saved to {'/'.join((processed_data_dir / 'processed_data.csv').parts[-3:])}\")"
   ],
   "id": "9fe25ac7ed90aaf2",
   "outputs": [
    {
     "name": "stdout",
     "output_type": "stream",
     "text": [
      "✔️ Dataset successfully saved to data/processed/processed_data.csv\n"
     ]
    }
   ],
   "execution_count": 19
  },
  {
   "metadata": {},
   "cell_type": "markdown",
   "source": "## Split & Save Curated Datasets",
   "id": "83cf7be501e698e7"
  },
  {
   "metadata": {
    "ExecuteTime": {
     "end_time": "2025-08-08T21:01:50.958726Z",
     "start_time": "2025-08-08T21:01:50.934474Z"
    }
   },
   "cell_type": "code",
   "source": [
    "train_df, test_df = train_test_split(processed_df, test_size=0.2, random_state=42)\n",
    "\n",
    "train_df.to_csv(curated_data_dir / 'train.csv', index=False)\n",
    "test_df.to_csv(curated_data_dir / 'test.csv', index=False)\n",
    "\n",
    "print(f\"✔️ Test-Train Datasets saved to {'/'.join(curated_data_dir.parts[-2:])}\")"
   ],
   "id": "8072ebcee48935ba",
   "outputs": [
    {
     "name": "stdout",
     "output_type": "stream",
     "text": [
      "✔️ Test-Train Datasets saved to data/curated\n"
     ]
    }
   ],
   "execution_count": 23
  }
 ],
 "metadata": {
  "kernelspec": {
   "display_name": "Python 3",
   "language": "python",
   "name": "python3"
  },
  "language_info": {
   "codemirror_mode": {
    "name": "ipython",
    "version": 2
   },
   "file_extension": ".py",
   "mimetype": "text/x-python",
   "name": "python",
   "nbconvert_exporter": "python",
   "pygments_lexer": "ipython2",
   "version": "2.7.6"
  }
 },
 "nbformat": 4,
 "nbformat_minor": 5
}
