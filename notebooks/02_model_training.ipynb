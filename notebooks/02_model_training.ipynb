{
 "cells": [
  {
   "metadata": {},
   "cell_type": "markdown",
   "source": "# Model Training - Evaluation",
   "id": "a09ddb2cd1a7f036"
  },
  {
   "metadata": {},
   "cell_type": "markdown",
   "source": "## Imports",
   "id": "4958021db0256899"
  },
  {
   "metadata": {
    "ExecuteTime": {
     "end_time": "2025-08-08T22:31:20.598960Z",
     "start_time": "2025-08-08T22:31:20.595611Z"
    }
   },
   "cell_type": "code",
   "source": [
    "# Core\n",
    "import pandas as pd\n",
    "\n",
    "# Model & Preprocessing\n",
    "from sklearn.model_selection import StratifiedKFold, GridSearchCV\n",
    "from imblearn.pipeline import Pipeline as ImbPipeline\n",
    "from imblearn.over_sampling import SMOTE\n",
    "\n",
    "# Models\n",
    "from sklearn.linear_model import LogisticRegression\n",
    "from sklearn.svm import SVC\n",
    "import joblib\n",
    "\n",
    "# Metrics\n",
    "from sklearn.metrics import accuracy_score\n",
    "\n",
    "# Paths\n",
    "from src.__00__paths import curated_data_dir, model_dir"
   ],
   "id": "f1f8fbb861ba1b41",
   "outputs": [],
   "execution_count": 31
  },
  {
   "metadata": {},
   "cell_type": "markdown",
   "source": "## Load Curated Data",
   "id": "d3a665a69e7d7d31"
  },
  {
   "metadata": {
    "ExecuteTime": {
     "end_time": "2025-08-08T22:31:20.621247Z",
     "start_time": "2025-08-08T22:31:20.607784Z"
    }
   },
   "cell_type": "code",
   "source": [
    "train_df = pd.read_csv(curated_data_dir / \"train.csv\")\n",
    "\n",
    "test_df = pd.read_csv(curated_data_dir / \"test.csv\")\n",
    "\n",
    "train_df.head()"
   ],
   "id": "c8f68c851b218f5a",
   "outputs": [
    {
     "data": {
      "text/plain": [
       "   no_of_dependents  education  self_employed  income_annum  loan_amount  \\\n",
       "0          1.475067          0              0      1.012245     1.633052   \n",
       "1         -1.473548          0              1      1.617979     2.086476   \n",
       "2         -0.883825          1              0     -1.517587    -1.352913   \n",
       "3         -0.294102          1              1     -0.056698    -0.224882   \n",
       "4          1.475067          1              1     -0.733695    -0.446064   \n",
       "\n",
       "   loan_term  cibil_score  residential_assets_value  commercial_assets_value  \\\n",
       "0  -0.858444    -0.185233                 -0.257212                 2.034167   \n",
       "1   0.192617     0.638384                  2.510795                 1.213832   \n",
       "2  -0.508091     0.475981                 -0.810813                -0.882579   \n",
       "3   1.243677     0.893590                  0.111856                -0.381263   \n",
       "4   0.192617    -0.921848                  0.157989                -0.563560   \n",
       "\n",
       "   luxury_assets_value  bank_asset_value  loan_status  \n",
       "0             0.084996          1.145702            1  \n",
       "1             2.523836          0.868762            1  \n",
       "2            -1.343153         -1.315984            1  \n",
       "3             0.150911          0.684136            1  \n",
       "4            -0.859780         -0.915960            0  "
      ],
      "text/html": [
       "<div>\n",
       "<style scoped>\n",
       "    .dataframe tbody tr th:only-of-type {\n",
       "        vertical-align: middle;\n",
       "    }\n",
       "\n",
       "    .dataframe tbody tr th {\n",
       "        vertical-align: top;\n",
       "    }\n",
       "\n",
       "    .dataframe thead th {\n",
       "        text-align: right;\n",
       "    }\n",
       "</style>\n",
       "<table border=\"1\" class=\"dataframe\">\n",
       "  <thead>\n",
       "    <tr style=\"text-align: right;\">\n",
       "      <th></th>\n",
       "      <th>no_of_dependents</th>\n",
       "      <th>education</th>\n",
       "      <th>self_employed</th>\n",
       "      <th>income_annum</th>\n",
       "      <th>loan_amount</th>\n",
       "      <th>loan_term</th>\n",
       "      <th>cibil_score</th>\n",
       "      <th>residential_assets_value</th>\n",
       "      <th>commercial_assets_value</th>\n",
       "      <th>luxury_assets_value</th>\n",
       "      <th>bank_asset_value</th>\n",
       "      <th>loan_status</th>\n",
       "    </tr>\n",
       "  </thead>\n",
       "  <tbody>\n",
       "    <tr>\n",
       "      <th>0</th>\n",
       "      <td>1.475067</td>\n",
       "      <td>0</td>\n",
       "      <td>0</td>\n",
       "      <td>1.012245</td>\n",
       "      <td>1.633052</td>\n",
       "      <td>-0.858444</td>\n",
       "      <td>-0.185233</td>\n",
       "      <td>-0.257212</td>\n",
       "      <td>2.034167</td>\n",
       "      <td>0.084996</td>\n",
       "      <td>1.145702</td>\n",
       "      <td>1</td>\n",
       "    </tr>\n",
       "    <tr>\n",
       "      <th>1</th>\n",
       "      <td>-1.473548</td>\n",
       "      <td>0</td>\n",
       "      <td>1</td>\n",
       "      <td>1.617979</td>\n",
       "      <td>2.086476</td>\n",
       "      <td>0.192617</td>\n",
       "      <td>0.638384</td>\n",
       "      <td>2.510795</td>\n",
       "      <td>1.213832</td>\n",
       "      <td>2.523836</td>\n",
       "      <td>0.868762</td>\n",
       "      <td>1</td>\n",
       "    </tr>\n",
       "    <tr>\n",
       "      <th>2</th>\n",
       "      <td>-0.883825</td>\n",
       "      <td>1</td>\n",
       "      <td>0</td>\n",
       "      <td>-1.517587</td>\n",
       "      <td>-1.352913</td>\n",
       "      <td>-0.508091</td>\n",
       "      <td>0.475981</td>\n",
       "      <td>-0.810813</td>\n",
       "      <td>-0.882579</td>\n",
       "      <td>-1.343153</td>\n",
       "      <td>-1.315984</td>\n",
       "      <td>1</td>\n",
       "    </tr>\n",
       "    <tr>\n",
       "      <th>3</th>\n",
       "      <td>-0.294102</td>\n",
       "      <td>1</td>\n",
       "      <td>1</td>\n",
       "      <td>-0.056698</td>\n",
       "      <td>-0.224882</td>\n",
       "      <td>1.243677</td>\n",
       "      <td>0.893590</td>\n",
       "      <td>0.111856</td>\n",
       "      <td>-0.381263</td>\n",
       "      <td>0.150911</td>\n",
       "      <td>0.684136</td>\n",
       "      <td>1</td>\n",
       "    </tr>\n",
       "    <tr>\n",
       "      <th>4</th>\n",
       "      <td>1.475067</td>\n",
       "      <td>1</td>\n",
       "      <td>1</td>\n",
       "      <td>-0.733695</td>\n",
       "      <td>-0.446064</td>\n",
       "      <td>0.192617</td>\n",
       "      <td>-0.921848</td>\n",
       "      <td>0.157989</td>\n",
       "      <td>-0.563560</td>\n",
       "      <td>-0.859780</td>\n",
       "      <td>-0.915960</td>\n",
       "      <td>0</td>\n",
       "    </tr>\n",
       "  </tbody>\n",
       "</table>\n",
       "</div>"
      ]
     },
     "execution_count": 32,
     "metadata": {},
     "output_type": "execute_result"
    }
   ],
   "execution_count": 32
  },
  {
   "metadata": {
    "ExecuteTime": {
     "end_time": "2025-08-08T22:31:20.651627Z",
     "start_time": "2025-08-08T22:31:20.648487Z"
    }
   },
   "cell_type": "code",
   "source": [
    "x_train = train_df.drop(columns=['loan_status'])\n",
    "y_train = train_df['loan_status']\n",
    "\n",
    "x_test = test_df.drop(columns=['loan_status'])\n",
    "y_test = test_df['loan_status']"
   ],
   "id": "718ddb01495d775c",
   "outputs": [],
   "execution_count": 33
  },
  {
   "metadata": {},
   "cell_type": "markdown",
   "source": "## Model Configuration",
   "id": "100c2b291bb835b3"
  },
  {
   "metadata": {
    "ExecuteTime": {
     "end_time": "2025-08-08T22:31:20.692572Z",
     "start_time": "2025-08-08T22:31:20.689872Z"
    }
   },
   "cell_type": "code",
   "source": [
    "models = {\n",
    "    \"LogisticRegression\": {\n",
    "        \"clf\": LogisticRegression(max_iter=1000, n_jobs=-1),\n",
    "        \"params\": {\n",
    "            \"clf__C\": [0.1, 1, 10],\n",
    "            \"clf__penalty\": [\"l2\"],\n",
    "            \"clf__solver\": [\"lbfgs\", \"liblinear\"],\n",
    "            \"smote__k_neighbors\": [3, 5]\n",
    "        }\n",
    "    },\n",
    "    \"SVM\": {\n",
    "        \"clf\": SVC(probability=True),\n",
    "        \"params\": {\n",
    "            \"clf__C\": [0.5, 1, 5],\n",
    "            \"clf__kernel\": [\"rbf\", \"linear\"],\n",
    "            \"clf__gamma\": [\"scale\", \"auto\"],\n",
    "            \"smote__k_neighbors\": [3, 5]\n",
    "        }\n",
    "    }\n",
    "}\n"
   ],
   "id": "76a2d59537b76b0f",
   "outputs": [],
   "execution_count": 34
  },
  {
   "metadata": {},
   "cell_type": "markdown",
   "source": "## Cross Validation & Training",
   "id": "819430be1f4d5134"
  },
  {
   "metadata": {
    "ExecuteTime": {
     "end_time": "2025-08-08T22:31:29.234118Z",
     "start_time": "2025-08-08T22:31:20.706619Z"
    }
   },
   "cell_type": "code",
   "source": [
    "RANDOM_STATE = 42\n",
    "\n",
    "cv = StratifiedKFold(n_splits=5, shuffle=True, random_state=RANDOM_STATE)\n",
    "\n",
    "results = {}\n",
    "\n",
    "for name, config in models.items():\n",
    "    print(f\"\\n===== Training {name} =====\")\n",
    "\n",
    "    # Remove n_jobs from LogisticRegression to avoid warning\n",
    "    if name == \"LogisticRegression\":\n",
    "        config[\"clf\"].set_params(n_jobs=None)\n",
    "\n",
    "    # Create pipeline (SMOTE + model)\n",
    "    pipe = ImbPipeline(steps=[\n",
    "        (\"smote\", SMOTE(random_state=RANDOM_STATE)),\n",
    "        (\"clf\", config[\"clf\"])\n",
    "    ])\n",
    "\n",
    "    # Grid search\n",
    "    gs = GridSearchCV(\n",
    "        estimator=pipe,\n",
    "        param_grid=config[\"params\"],\n",
    "        scoring=\"f1\",\n",
    "        cv=cv,\n",
    "        n_jobs=-1,\n",
    "        refit=True\n",
    "    )\n",
    "\n",
    "    gs.fit(x_train, y_train)  # Make sure variable name is X_train not x_train\n",
    "    results[name] = gs\n",
    "\n",
    "    print(\"Best Params:\", gs.best_params_)\n",
    "    print(\"Best CV F1:\", gs.best_score_)"
   ],
   "id": "21c0bfbc9ab3cff2",
   "outputs": [
    {
     "name": "stdout",
     "output_type": "stream",
     "text": [
      "\n",
      "===== Training LogisticRegression =====\n",
      "Best Params: {'clf__C': 0.1, 'clf__penalty': 'l2', 'clf__solver': 'lbfgs', 'smote__k_neighbors': 5}\n",
      "Best CV F1: 0.9402408667552248\n",
      "\n",
      "===== Training SVM =====\n",
      "Best Params: {'clf__C': 5, 'clf__gamma': 'auto', 'clf__kernel': 'rbf', 'smote__k_neighbors': 3}\n",
      "Best CV F1: 0.9557809241009922\n"
     ]
    }
   ],
   "execution_count": 35
  },
  {
   "metadata": {},
   "cell_type": "markdown",
   "source": "## Show Accuracy",
   "id": "3bfd6f66d8276f55"
  },
  {
   "metadata": {
    "ExecuteTime": {
     "end_time": "2025-08-08T22:31:29.290476Z",
     "start_time": "2025-08-08T22:31:29.255279Z"
    }
   },
   "cell_type": "code",
   "source": [
    "for name, gs in results.items():\n",
    "    y_pred = gs.predict(x_test)\n",
    "\n",
    "    acc = accuracy_score(y_test, y_pred)\n",
    "    print(f\"{name} Test Accuracy: {acc * 100:.2f}%\")"
   ],
   "id": "a61ccba304665d30",
   "outputs": [
    {
     "name": "stdout",
     "output_type": "stream",
     "text": [
      "LogisticRegression Test Accuracy: 91.57%\n",
      "SVM Test Accuracy: 93.68%\n"
     ]
    }
   ],
   "execution_count": 36
  },
  {
   "metadata": {},
   "cell_type": "markdown",
   "source": "## Save Model",
   "id": "df73603916d15602"
  },
  {
   "metadata": {
    "ExecuteTime": {
     "end_time": "2025-08-08T22:31:29.312478Z",
     "start_time": "2025-08-08T22:31:29.304965Z"
    }
   },
   "cell_type": "code",
   "source": [
    "# Save best models after training loop\n",
    "for name, gs in results.items():\n",
    "    model_path = model_dir / f\"{name}_model.joblib\"\n",
    "    joblib.dump(gs.best_estimator_, model_path)\n",
    "    print(f\"✔️ Saved {name} model to: {'/'.join(model_path.parts[-3:])}\")"
   ],
   "id": "a493d6ce4451ec2d",
   "outputs": [
    {
     "name": "stdout",
     "output_type": "stream",
     "text": [
      "✔️ Saved LogisticRegression model to: outputs/models/LogisticRegression_model.joblib\n",
      "✔️ Saved SVM model to: outputs/models/SVM_model.joblib\n"
     ]
    }
   ],
   "execution_count": 37
  }
 ],
 "metadata": {
  "kernelspec": {
   "display_name": "Python 3",
   "language": "python",
   "name": "python3"
  },
  "language_info": {
   "codemirror_mode": {
    "name": "ipython",
    "version": 2
   },
   "file_extension": ".py",
   "mimetype": "text/x-python",
   "name": "python",
   "nbconvert_exporter": "python",
   "pygments_lexer": "ipython2",
   "version": "2.7.6"
  }
 },
 "nbformat": 4,
 "nbformat_minor": 5
}
